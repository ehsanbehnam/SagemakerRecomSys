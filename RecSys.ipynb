{
 "cells": [
  {
   "cell_type": "code",
   "execution_count": 30,
   "metadata": {},
   "outputs": [
    {
     "name": "stdout",
     "output_type": "stream",
     "text": [
      "Using matplotlib backend: TkAgg\n"
     ]
    }
   ],
   "source": [
    "# This is the group project for the sagemaker training session started on 2019-03-12\n",
    "# Team Members: Ehsan, Nahum, Madhav\n",
    "import pickle\n",
    "import pandas as pd\n",
    "import numpy as np\n",
    "%matplotlib"
   ]
  },
  {
   "cell_type": "code",
   "execution_count": 4,
   "metadata": {},
   "outputs": [
    {
     "name": "stdout",
     "output_type": "stream",
     "text": [
      "movies-frame\n",
      "genome scores frame\n",
      "genome tags frame\n",
      "ratings frame\n",
      "tags\n"
     ]
    }
   ],
   "source": [
    "movies_frame = pd.read_csv('data/movies.csv')\n",
    "genomescores_frame = pd.read_csv('data/genome-scores.csv')\n",
    "genometags_frame = pd.read_csv('data/genome-tags.csv')\n",
    "ratings_frame = pd.read_csv('data/ratings.csv')\n",
    "tags_frame = pd.read_csv('data/tags.csv')"
   ]
  },
  {
   "cell_type": "code",
   "execution_count": 11,
   "metadata": {},
   "outputs": [
    {
     "name": "stdout",
     "output_type": "stream",
     "text": [
      "# unique userIds is 138493\n",
      "# unique movieId is 26744\n",
      "# the number of interactions is 20000263\n"
     ]
    }
   ],
   "source": [
    "print(\"# unique userIds is\", len(pd.unique(ratings_frame['userId'])))\n",
    "print(\"# unique movieId is\", len(pd.unique(ratings_frame['movieId'])))\n",
    "print(\"# the number of interactions is\", ratings_frame.shape[0])"
   ]
  },
  {
   "cell_type": "code",
   "execution_count": 28,
   "metadata": {},
   "outputs": [
    {
     "data": {
      "text/html": [
       "<div>\n",
       "<style scoped>\n",
       "    .dataframe tbody tr th:only-of-type {\n",
       "        vertical-align: middle;\n",
       "    }\n",
       "\n",
       "    .dataframe tbody tr th {\n",
       "        vertical-align: top;\n",
       "    }\n",
       "\n",
       "    .dataframe thead th {\n",
       "        text-align: right;\n",
       "    }\n",
       "</style>\n",
       "<table border=\"1\" class=\"dataframe\">\n",
       "  <thead>\n",
       "    <tr style=\"text-align: right;\">\n",
       "      <th></th>\n",
       "      <th>userId_1</th>\n",
       "      <th>movieId_2</th>\n",
       "      <th>movieId_29</th>\n",
       "      <th>movieId_32</th>\n",
       "      <th>movieId_47</th>\n",
       "      <th>movieId_50</th>\n",
       "      <th>movieId_112</th>\n",
       "      <th>movieId_151</th>\n",
       "      <th>movieId_223</th>\n",
       "      <th>movieId_253</th>\n",
       "      <th>movieId_260</th>\n",
       "    </tr>\n",
       "  </thead>\n",
       "  <tbody>\n",
       "    <tr>\n",
       "      <th>0</th>\n",
       "      <td>1</td>\n",
       "      <td>1</td>\n",
       "      <td>0</td>\n",
       "      <td>0</td>\n",
       "      <td>0</td>\n",
       "      <td>0</td>\n",
       "      <td>0</td>\n",
       "      <td>0</td>\n",
       "      <td>0</td>\n",
       "      <td>0</td>\n",
       "      <td>0</td>\n",
       "    </tr>\n",
       "    <tr>\n",
       "      <th>1</th>\n",
       "      <td>1</td>\n",
       "      <td>0</td>\n",
       "      <td>1</td>\n",
       "      <td>0</td>\n",
       "      <td>0</td>\n",
       "      <td>0</td>\n",
       "      <td>0</td>\n",
       "      <td>0</td>\n",
       "      <td>0</td>\n",
       "      <td>0</td>\n",
       "      <td>0</td>\n",
       "    </tr>\n",
       "    <tr>\n",
       "      <th>2</th>\n",
       "      <td>1</td>\n",
       "      <td>0</td>\n",
       "      <td>0</td>\n",
       "      <td>1</td>\n",
       "      <td>0</td>\n",
       "      <td>0</td>\n",
       "      <td>0</td>\n",
       "      <td>0</td>\n",
       "      <td>0</td>\n",
       "      <td>0</td>\n",
       "      <td>0</td>\n",
       "    </tr>\n",
       "    <tr>\n",
       "      <th>3</th>\n",
       "      <td>1</td>\n",
       "      <td>0</td>\n",
       "      <td>0</td>\n",
       "      <td>0</td>\n",
       "      <td>1</td>\n",
       "      <td>0</td>\n",
       "      <td>0</td>\n",
       "      <td>0</td>\n",
       "      <td>0</td>\n",
       "      <td>0</td>\n",
       "      <td>0</td>\n",
       "    </tr>\n",
       "    <tr>\n",
       "      <th>4</th>\n",
       "      <td>1</td>\n",
       "      <td>0</td>\n",
       "      <td>0</td>\n",
       "      <td>0</td>\n",
       "      <td>0</td>\n",
       "      <td>1</td>\n",
       "      <td>0</td>\n",
       "      <td>0</td>\n",
       "      <td>0</td>\n",
       "      <td>0</td>\n",
       "      <td>0</td>\n",
       "    </tr>\n",
       "    <tr>\n",
       "      <th>5</th>\n",
       "      <td>1</td>\n",
       "      <td>0</td>\n",
       "      <td>0</td>\n",
       "      <td>0</td>\n",
       "      <td>0</td>\n",
       "      <td>0</td>\n",
       "      <td>1</td>\n",
       "      <td>0</td>\n",
       "      <td>0</td>\n",
       "      <td>0</td>\n",
       "      <td>0</td>\n",
       "    </tr>\n",
       "    <tr>\n",
       "      <th>6</th>\n",
       "      <td>1</td>\n",
       "      <td>0</td>\n",
       "      <td>0</td>\n",
       "      <td>0</td>\n",
       "      <td>0</td>\n",
       "      <td>0</td>\n",
       "      <td>0</td>\n",
       "      <td>1</td>\n",
       "      <td>0</td>\n",
       "      <td>0</td>\n",
       "      <td>0</td>\n",
       "    </tr>\n",
       "    <tr>\n",
       "      <th>7</th>\n",
       "      <td>1</td>\n",
       "      <td>0</td>\n",
       "      <td>0</td>\n",
       "      <td>0</td>\n",
       "      <td>0</td>\n",
       "      <td>0</td>\n",
       "      <td>0</td>\n",
       "      <td>0</td>\n",
       "      <td>1</td>\n",
       "      <td>0</td>\n",
       "      <td>0</td>\n",
       "    </tr>\n",
       "    <tr>\n",
       "      <th>8</th>\n",
       "      <td>1</td>\n",
       "      <td>0</td>\n",
       "      <td>0</td>\n",
       "      <td>0</td>\n",
       "      <td>0</td>\n",
       "      <td>0</td>\n",
       "      <td>0</td>\n",
       "      <td>0</td>\n",
       "      <td>0</td>\n",
       "      <td>1</td>\n",
       "      <td>0</td>\n",
       "    </tr>\n",
       "    <tr>\n",
       "      <th>9</th>\n",
       "      <td>1</td>\n",
       "      <td>0</td>\n",
       "      <td>0</td>\n",
       "      <td>0</td>\n",
       "      <td>0</td>\n",
       "      <td>0</td>\n",
       "      <td>0</td>\n",
       "      <td>0</td>\n",
       "      <td>0</td>\n",
       "      <td>0</td>\n",
       "      <td>1</td>\n",
       "    </tr>\n",
       "  </tbody>\n",
       "</table>\n",
       "</div>"
      ],
      "text/plain": [
       "   userId_1  movieId_2  movieId_29  movieId_32  movieId_47  movieId_50  \\\n",
       "0         1          1           0           0           0           0   \n",
       "1         1          0           1           0           0           0   \n",
       "2         1          0           0           1           0           0   \n",
       "3         1          0           0           0           1           0   \n",
       "4         1          0           0           0           0           1   \n",
       "5         1          0           0           0           0           0   \n",
       "6         1          0           0           0           0           0   \n",
       "7         1          0           0           0           0           0   \n",
       "8         1          0           0           0           0           0   \n",
       "9         1          0           0           0           0           0   \n",
       "\n",
       "   movieId_112  movieId_151  movieId_223  movieId_253  movieId_260  \n",
       "0            0            0            0            0            0  \n",
       "1            0            0            0            0            0  \n",
       "2            0            0            0            0            0  \n",
       "3            0            0            0            0            0  \n",
       "4            0            0            0            0            0  \n",
       "5            1            0            0            0            0  \n",
       "6            0            1            0            0            0  \n",
       "7            0            0            1            0            0  \n",
       "8            0            0            0            1            0  \n",
       "9            0            0            0            0            1  "
      ]
     },
     "execution_count": 28,
     "metadata": {},
     "output_type": "execute_result"
    }
   ],
   "source": [
    "# small_df = ratings_frame[['userId', 'movieId']][:10]\n",
    "temp = pd.get_dummies(ratings_frame, columns=['userId', 'movieId'])"
   ]
  },
  {
   "cell_type": "code",
   "execution_count": 24,
   "metadata": {},
   "outputs": [
    {
     "data": {
      "text/plain": [
       "count    2.000026e+07\n",
       "mean     3.525529e+00\n",
       "std      1.051989e+00\n",
       "min      5.000000e-01\n",
       "25%      3.000000e+00\n",
       "50%      3.500000e+00\n",
       "75%      4.000000e+00\n",
       "max      5.000000e+00\n",
       "Name: rating, dtype: float64"
      ]
     },
     "execution_count": 24,
     "metadata": {},
     "output_type": "execute_result"
    }
   ],
   "source": [
    "ratings_frame['rating'].describe()"
   ]
  },
  {
   "cell_type": "code",
   "execution_count": 29,
   "metadata": {},
   "outputs": [],
   "source": [
    "labels = [1 if i > 3.5 else 0 for i in ratings_frame['rating'][:10]]"
   ]
  },
  {
   "cell_type": "code",
   "execution_count": 26,
   "metadata": {},
   "outputs": [
    {
     "data": {
      "text/plain": [
       "[0, 0, 0, 0, 0, 0, 1, 1, 1, 1]"
      ]
     },
     "execution_count": 26,
     "metadata": {},
     "output_type": "execute_result"
    }
   ],
   "source": []
  },
  {
   "cell_type": "code",
   "execution_count": 27,
   "metadata": {},
   "outputs": [
    {
     "data": {
      "text/plain": [
       "0           3.5\n",
       "1           3.5\n",
       "2           3.5\n",
       "3           3.5\n",
       "4           3.5\n",
       "5           3.5\n",
       "6           4.0\n",
       "7           4.0\n",
       "8           4.0\n",
       "9           4.0\n",
       "10          4.0\n",
       "11          4.0\n",
       "12          4.0\n",
       "13          3.5\n",
       "14          3.5\n",
       "15          4.0\n",
       "16          3.5\n",
       "17          3.5\n",
       "18          3.0\n",
       "19          3.5\n",
       "20          3.5\n",
       "21          3.5\n",
       "22          4.0\n",
       "23          4.0\n",
       "24          3.5\n",
       "25          3.5\n",
       "26          4.0\n",
       "27          4.0\n",
       "28          3.5\n",
       "29          3.5\n",
       "           ... \n",
       "20000233    3.5\n",
       "20000234    3.5\n",
       "20000235    4.5\n",
       "20000236    4.5\n",
       "20000237    4.0\n",
       "20000238    4.0\n",
       "20000239    4.0\n",
       "20000240    3.0\n",
       "20000241    4.0\n",
       "20000242    4.0\n",
       "20000243    4.5\n",
       "20000244    5.0\n",
       "20000245    5.0\n",
       "20000246    3.0\n",
       "20000247    3.0\n",
       "20000248    4.5\n",
       "20000249    4.0\n",
       "20000250    3.0\n",
       "20000251    5.0\n",
       "20000252    4.0\n",
       "20000253    4.5\n",
       "20000254    4.0\n",
       "20000255    4.5\n",
       "20000256    4.5\n",
       "20000257    4.5\n",
       "20000258    4.5\n",
       "20000259    4.5\n",
       "20000260    3.0\n",
       "20000261    5.0\n",
       "20000262    2.5\n",
       "Name: rating, Length: 20000263, dtype: float64"
      ]
     },
     "execution_count": 27,
     "metadata": {},
     "output_type": "execute_result"
    }
   ],
   "source": [
    "ratings_frame['rating']"
   ]
  },
  {
   "cell_type": "code",
   "execution_count": 33,
   "metadata": {},
   "outputs": [],
   "source": [
    "outfile = 'test.pkl'\n",
    "pickle.dump((temp, labels), open(outfile, 'wb'))\n",
    "train, lab = pickle.load(open(outfile, 'rb'))"
   ]
  },
  {
   "cell_type": "code",
   "execution_count": 35,
   "metadata": {},
   "outputs": [
    {
     "data": {
      "text/plain": [
       "[0, 0, 0, 0, 0, 0, 1, 1, 1, 1]"
      ]
     },
     "execution_count": 35,
     "metadata": {},
     "output_type": "execute_result"
    }
   ],
   "source": [
    "lab"
   ]
  },
  {
   "cell_type": "code",
   "execution_count": null,
   "metadata": {},
   "outputs": [],
   "source": []
  }
 ],
 "metadata": {
  "kernelspec": {
   "display_name": "Python 3",
   "language": "python",
   "name": "python3"
  },
  "language_info": {
   "codemirror_mode": {
    "name": "ipython",
    "version": 3
   },
   "file_extension": ".py",
   "mimetype": "text/x-python",
   "name": "python",
   "nbconvert_exporter": "python",
   "pygments_lexer": "ipython3",
   "version": "3.6.5"
  }
 },
 "nbformat": 4,
 "nbformat_minor": 2
}
