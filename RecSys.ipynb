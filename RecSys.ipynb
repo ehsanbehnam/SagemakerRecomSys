{
 "cells": [
  {
   "cell_type": "code",
   "execution_count": 1,
   "metadata": {},
   "outputs": [
    {
     "name": "stdout",
     "output_type": "stream",
     "text": [
      "Using matplotlib backend: TkAgg\n"
     ]
    }
   ],
   "source": [
    "# This is the group project for the sagemaker training session started on 2019-03-12\n",
    "# Team Members: Ehsan, Nahum, Madhav\n",
    "import pickle\n",
    "import pandas as pd\n",
    "import numpy as np\n",
    "from sklearn.model_selection import train_test_split\n",
    "%matplotlib"
   ]
  },
  {
   "cell_type": "code",
   "execution_count": 2,
   "metadata": {},
   "outputs": [],
   "source": [
    "movies_frame = pd.read_csv('data/movies.csv')\n",
    "genomescores_frame = pd.read_csv('data/genome-scores.csv')\n",
    "genometags_frame = pd.read_csv('data/genome-tags.csv')\n",
    "ratings_frame = pd.read_csv('data/ratings.csv')\n",
    "tags_frame = pd.read_csv('data/tags.csv')"
   ]
  },
  {
   "cell_type": "code",
   "execution_count": 3,
   "metadata": {},
   "outputs": [
    {
     "name": "stdout",
     "output_type": "stream",
     "text": [
      "# unique userIds is 138493\n",
      "# unique movieId is 26744\n",
      "# the number of interactions is 20000263\n"
     ]
    }
   ],
   "source": [
    "print(\"# unique userIds is\", len(pd.unique(ratings_frame['userId'])))\n",
    "print(\"# unique movieId is\", len(pd.unique(ratings_frame['movieId'])))\n",
    "print(\"# the number of interactions is\", ratings_frame.shape[0])"
   ]
  },
  {
   "cell_type": "code",
   "execution_count": 4,
   "metadata": {},
   "outputs": [
    {
     "data": {
      "text/plain": [
       "count    2.000026e+07\n",
       "mean     3.525529e+00\n",
       "std      1.051989e+00\n",
       "min      5.000000e-01\n",
       "25%      3.000000e+00\n",
       "50%      3.500000e+00\n",
       "75%      4.000000e+00\n",
       "max      5.000000e+00\n",
       "Name: rating, dtype: float64"
      ]
     },
     "execution_count": 4,
     "metadata": {},
     "output_type": "execute_result"
    }
   ],
   "source": [
    "ratings_frame['rating'].describe()"
   ]
  },
  {
   "cell_type": "code",
   "execution_count": 5,
   "metadata": {},
   "outputs": [],
   "source": [
    "def get_most_active_user(ratings, k):\n",
    "    temp = ratings['userId'].value_counts()\n",
    "    return ratings[ratings['userId'].isin(temp.index[:k])]\n",
    "small_df = get_most_active_user(ratings_frame, 20)"
   ]
  },
  {
   "cell_type": "code",
   "execution_count": 6,
   "metadata": {},
   "outputs": [],
   "source": [
    "fea_mat = pd.get_dummies(small_df, columns=['userId', 'movieId'])\n",
    "\n",
    "test_portion = 0.2\n",
    "train, test = train_test_split(fea_mat, test_size=test_portion)"
   ]
  },
  {
   "cell_type": "code",
   "execution_count": null,
   "metadata": {},
   "outputs": [],
   "source": [
    "train.sha"
   ]
  },
  {
   "cell_type": "code",
   "execution_count": null,
   "metadata": {},
   "outputs": [],
   "source": [
    "thresh = 3.5\n",
    "train_labels = train['rating'] > thresh\n",
    "test_labels = test['rating'] > thresh"
   ]
  },
  {
   "cell_type": "code",
   "execution_count": null,
   "metadata": {},
   "outputs": [],
   "source": [
    "train_outfile = 'train_data.pkl'\n",
    "pickle.dump((train, train_labels), open(train_outfile, 'wb'))"
   ]
  },
  {
   "cell_type": "code",
   "execution_count": null,
   "metadata": {},
   "outputs": [],
   "source": [
    "test_outfile = 'test_data.pkl'\n",
    "pickle.dump((test, test_labels), open(test_outfile, 'wb'))"
   ]
  }
 ],
 "metadata": {
  "kernelspec": {
   "display_name": "Python 3",
   "language": "python",
   "name": "python3"
  },
  "language_info": {
   "codemirror_mode": {
    "name": "ipython",
    "version": 3
   },
   "file_extension": ".py",
   "mimetype": "text/x-python",
   "name": "python",
   "nbconvert_exporter": "python",
   "pygments_lexer": "ipython3",
   "version": "3.6.5"
  }
 },
 "nbformat": 4,
 "nbformat_minor": 2
}
